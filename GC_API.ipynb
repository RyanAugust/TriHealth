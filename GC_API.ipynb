{
 "cells": [
  {
   "cell_type": "code",
   "execution_count": 77,
   "metadata": {},
   "outputs": [],
   "source": [
    "import requests\n",
    "import json\n",
    "from io import StringIO\n",
    "\n",
    "import pandas as pd\n",
    "import plotly"
   ]
  },
  {
   "cell_type": "code",
   "execution_count": 5,
   "metadata": {},
   "outputs": [],
   "source": [
    "base = 'http://localhost:12021/'\n",
    "athlete = 'ryan duecker'"
   ]
  },
  {
   "cell_type": "markdown",
   "metadata": {},
   "source": [
    "# Doc & Example\n",
    "___\n",
    "Docs: https://github.com/GoldenCheetah/GoldenCheetah/wiki/UG_Special-Topics_REST-API-documentation\n",
    "\n",
    "Filtering:\n",
    "* since=yyyy/mm/dd\n",
    "* before=yyyy/mm/dd\n",
    "* metrics=NP,IF,TSS,AveragePower\n",
    "* metadata=none or all or list (Sport,Workout Code)\n",
    "* intervals=true"
   ]
  },
  {
   "cell_type": "code",
   "execution_count": 48,
   "metadata": {},
   "outputs": [],
   "source": [
    "def add_filters(filter_dict):\n",
    "    filter_params = []\n",
    "    for key, val in filter_dict.items():\n",
    "        filter_params.append('{}={}'.format(key,val))\n",
    "    return '?' + '&'.join(filter_params)"
   ]
  },
  {
   "cell_type": "code",
   "execution_count": 49,
   "metadata": {},
   "outputs": [],
   "source": [
    "def rp(url, filters=None):\n",
    "    if filters!= None:\n",
    "        url += add_filters(filters)\n",
    "    r = requests.get(url)\n",
    "    return r.text\n",
    "def rd(url, filters=None):\n",
    "    if filters!=None:\n",
    "        url += add_filters(filters)\n",
    "    r = requests.get(url)\n",
    "    print(r.url)\n",
    "    csv_like = StringIO(r.text)\n",
    "    df = pd.read_csv(csv_like)\n",
    "    return df"
   ]
  },
  {
   "cell_type": "code",
   "execution_count": null,
   "metadata": {},
   "outputs": [],
   "source": [
    "def ad(url):\n",
    "    r = requests.get(url)\n",
    "    j = json.loads(r.text)\n",
    "    pd.read_json(j)"
   ]
  },
  {
   "cell_type": "code",
   "execution_count": 70,
   "metadata": {},
   "outputs": [
    {
     "name": "stdout",
     "output_type": "stream",
     "text": [
      "http://localhost:12021/ryan%20duecker?since=2020/03/01&before=2020/04/06\n"
     ]
    }
   ],
   "source": [
    "df = rd(url=base + athlete,\n",
    "  filters={'since':\"2020/03/01\",\n",
    "          'before':\"2020/04/06\"})"
   ]
  },
  {
   "cell_type": "code",
   "execution_count": 67,
   "metadata": {},
   "outputs": [
    {
     "ename": "SyntaxError",
     "evalue": "invalid syntax (<ipython-input-67-bb4196d43ee0>, line 1)",
     "output_type": "error",
     "traceback": [
      "\u001b[0;36m  File \u001b[0;32m\"<ipython-input-67-bb4196d43ee0>\"\u001b[0;36m, line \u001b[0;32m1\u001b[0m\n\u001b[0;31m    for activ = df[' filename'].tolist()\u001b[0m\n\u001b[0m              ^\u001b[0m\n\u001b[0;31mSyntaxError\u001b[0m\u001b[0;31m:\u001b[0m invalid syntax\n"
     ]
    }
   ],
   "source": [
    "activ_df = pd.DataFrame()\n",
    "for activ in df[' filename'].tolist():\n",
    "    rd(url=base+athlete+'/activity/'+activ)\n",
    "    activ_df.append(adf)"
   ]
  },
  {
   "cell_type": "code",
   "execution_count": 75,
   "metadata": {},
   "outputs": [],
   "source": [
    "r = requests.get(base+athlete+'/activity/'+df[' filename'].tolist()[1])\n",
    "2"
   ]
  },
  {
   "cell_type": "code",
   "execution_count": 82,
   "metadata": {},
   "outputs": [],
   "source": [
    "j = json.loads(r.text)\n",
    "s = j['RIDE']['SAMPLES']"
   ]
  },
  {
   "cell_type": "code",
   "execution_count": 99,
   "metadata": {},
   "outputs": [
    {
     "ename": "AttributeError",
     "evalue": "'list' object has no attribute 'keys'",
     "output_type": "error",
     "traceback": [
      "\u001b[0;31m---------------------------------------------------------------------------\u001b[0m",
      "\u001b[0;31mAttributeError\u001b[0m                            Traceback (most recent call last)",
      "\u001b[0;32m<ipython-input-99-633fcf3ac119>\u001b[0m in \u001b[0;36m<module>\u001b[0;34m\u001b[0m\n\u001b[0;32m----> 1\u001b[0;31m \u001b[0mj\u001b[0m\u001b[0;34m[\u001b[0m\u001b[0;34m'RIDE'\u001b[0m\u001b[0;34m]\u001b[0m\u001b[0;34m[\u001b[0m\u001b[0;34m'SAMPLES'\u001b[0m\u001b[0;34m]\u001b[0m\u001b[0;34m.\u001b[0m\u001b[0mkeys\u001b[0m\u001b[0;34m(\u001b[0m\u001b[0;34m)\u001b[0m\u001b[0;31m#['HR']\u001b[0m\u001b[0;34m\u001b[0m\u001b[0m\n\u001b[0m",
      "\u001b[0;31mAttributeError\u001b[0m: 'list' object has no attribute 'keys'"
     ]
    }
   ],
   "source": [
    "j['RIDE']['SAMPLES'].keys()#['HR']"
   ]
  },
  {
   "cell_type": "code",
   "execution_count": null,
   "metadata": {},
   "outputs": [],
   "source": []
  }
 ],
 "metadata": {
  "kernelspec": {
   "display_name": "Python 3",
   "language": "python",
   "name": "python3"
  },
  "language_info": {
   "codemirror_mode": {
    "name": "ipython",
    "version": 3
   },
   "file_extension": ".py",
   "mimetype": "text/x-python",
   "name": "python",
   "nbconvert_exporter": "python",
   "pygments_lexer": "ipython3",
   "version": "3.6.1"
  }
 },
 "nbformat": 4,
 "nbformat_minor": 4
}
